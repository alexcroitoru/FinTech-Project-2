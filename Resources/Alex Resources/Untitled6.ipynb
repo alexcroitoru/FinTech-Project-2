{
 "cells": [
  {
   "cell_type": "code",
   "execution_count": 4,
   "id": "87184bb5-f9c6-4da1-affd-a7214fc10f52",
   "metadata": {},
   "outputs": [],
   "source": [
    "import praw\n",
    "from praw.models import MoreComments\n",
    "import pandas as pd\n",
    "from requests import Session\n",
    "import datetime\n",
    "from datetime import date, timedelta\n",
    "from psaw import PushshiftAPI"
   ]
  },
  {
   "cell_type": "code",
   "execution_count": null,
   "id": "c259a957-9ca5-4ee7-baaf-5fbafe6aeb71",
   "metadata": {},
   "outputs": [],
   "source": [
    "def get_date(created):\n",
    "    return dt.datetime.fromtimestamp(created)\n",
    "\n",
    "#___________________________________________________________________________________________________________\n",
    "def redditing(start_date, end_date):\n",
    "    # define connection variables\n",
    "    reddit = praw.Reddit(\n",
    "        client_id=\"ZjPaBT8ar8gCw7fwxI3d-Q\",\n",
    "        client_secret=\"HkSP6Qmf5cC5Pryh1e8JVasGiWo5Xg\",\n",
    "        password=\"1440falcon\",  # pass Session\n",
    "        user_agent=\"API\",\n",
    "        username=\"alexcroitoru\")\n",
    "\n",
    "\n",
    "    api = PushshiftAPI()\n",
    "    \n",
    "    # define dates for query\n",
    "    start_time = int(dt.datetime(start_date).timestamp())\n",
    "    end_time = int(dt.datetime(end_date).timestamp())\n",
    "\n",
    "    # begin query\n",
    "    query = api.search_submissions(after=start_time, before=end_time, subreddit = \"wallstreetbets\")\n",
    "\n",
    "    # create query and append submissions (threads)\n",
    "    submissions = list()\n",
    "    for element in query:\n",
    "        submissions.append(element.d_)\n",
    "\n",
    "    # convert list to dataframe\n",
    "    reddits = pd.DataFrame(submissions)\n",
    "\n",
    "    # filter on Daily Discussion Threads\n",
    "    reddit_api = reddits[reddits['title'].str.contains(\"Daily Discussion Thread\", regex=False)]\n",
    "\n",
    "    reddit_id = reddit_api.iloc[0]['id']\n",
    "    \n",
    "    # pull id from DDT\n",
    "    submission = reddit.submission(id = f'{reddit_id}')\n",
    "    \n",
    "    comments = list()\n",
    "    postlist = []\n",
    "    # Extract all comments\n",
    "    submission.comments.replace_more(limit=0)\n",
    "    \n",
    "    #for comment in submission.comments.list():\n",
    "        #comments.append(comment.body.d_)\n",
    "        #reddit_comments = pd.DataFrame(comments)\n",
    "        #return(reddit_comments)\n",
    "        #return(comment.body)\n",
    "    # Create DF for comments and add Column Names    \n",
    "    for comment in submission.comments: \n",
    "            post = {}\n",
    "            post['Author'] = str(comment.author)\n",
    "            post['Comment'] = comment.body.encode('ascii', 'ignore').decode('ascii')\n",
    "            post['Score'] = int(comment.score)\n",
    "            post['Time Created'] = int(comment.created_utc)\n",
    "            postlist.append(post)\n",
    "\n",
    "            #print(postlist)\n",
    "            \n",
    "    Postdf = pd.DataFrame(postlist)\n",
    "    return(Postdf)\n",
    "#___________________________________________________________________________________________________________"
   ]
  },
  {
   "cell_type": "code",
   "execution_count": 5,
   "id": "d4906a3c-feb1-40bb-861e-73c15d7d69f7",
   "metadata": {},
   "outputs": [
    {
     "name": "stdout",
     "output_type": "stream",
     "text": [
      "2020-01-01\n",
      "2020-01-02\n",
      "2020-01-03\n",
      "2020-01-04\n"
     ]
    },
    {
     "ename": "TypeError",
     "evalue": "'datetime.date' object cannot be interpreted as an integer",
     "output_type": "error",
     "traceback": [
      "\u001b[1;31m---------------------------------------------------------------------------\u001b[0m",
      "\u001b[1;31mTypeError\u001b[0m                                 Traceback (most recent call last)",
      "\u001b[1;32m<ipython-input-5-b217e1db1744>\u001b[0m in \u001b[0;36m<module>\u001b[1;34m\u001b[0m\n\u001b[0;32m      8\u001b[0m \u001b[1;33m\u001b[0m\u001b[0m\n\u001b[0;32m      9\u001b[0m \u001b[1;33m\u001b[0m\u001b[0m\n\u001b[1;32m---> 10\u001b[1;33m \u001b[1;32mfor\u001b[0m \u001b[0mday_start\u001b[0m \u001b[1;32min\u001b[0m \u001b[0mrange\u001b[0m\u001b[1;33m(\u001b[0m\u001b[0mstart_date\u001b[0m\u001b[1;33m,\u001b[0m \u001b[0mend_date\u001b[0m\u001b[1;33m)\u001b[0m\u001b[1;33m:\u001b[0m\u001b[1;33m\u001b[0m\u001b[1;33m\u001b[0m\u001b[0m\n\u001b[0m\u001b[0;32m     11\u001b[0m     \u001b[0mappended_data\u001b[0m \u001b[1;33m=\u001b[0m \u001b[1;33m[\u001b[0m\u001b[1;33m]\u001b[0m\u001b[1;33m\u001b[0m\u001b[1;33m\u001b[0m\u001b[0m\n\u001b[0;32m     12\u001b[0m     \u001b[1;31m# day_start = 4\u001b[0m\u001b[1;33m\u001b[0m\u001b[1;33m\u001b[0m\u001b[1;33m\u001b[0m\u001b[0m\n",
      "\u001b[1;31mTypeError\u001b[0m: 'datetime.date' object cannot be interpreted as an integer"
     ]
    }
   ],
   "source": [
    "start_date = datetime.date(2020, 1, 1)\n",
    "end_date = datetime.date(2020, 1, 4)\n",
    "delta = datetime.timedelta(days=1)\n",
    "\n",
    "while start_date <= end_date:\n",
    "    print(start_date)\n",
    "    start_date += delta\n",
    "    \n",
    "    \n",
    "for day_start in range(start_date, end_date):\n",
    "    appended_data = []\n",
    "    # day_start = 4\n",
    "    day_end = day_start + 1\n",
    "    Postdf = pd.DataFrame(redditing(5, day_start, day_end))\n",
    "    appended_data.append(Postdf)\n",
    "\n",
    "appended_data = pd.concat(appended_data)\n",
    "\n",
    "_timestamp = appended_data[\"Time Created\"].apply(get_date)\n",
    "appended_data = appended_data.assign(timestamp = _timestamp)\n",
    "appended_data = appended_data.drop(columns=[\"Time Created\"])\n",
    "\n",
    "appended_data.to_excel('appended.xlsx')\n",
    "\n",
    "    \n",
    "#Postdf = pd.DataFrame(redditing(5, 3, 4))\n",
    "#Postdf"
   ]
  },
  {
   "cell_type": "code",
   "execution_count": null,
   "id": "a03a5001-04f3-4a52-be36-ef289fd6ce3c",
   "metadata": {},
   "outputs": [],
   "source": [
    "Postdf = pd.DataFrame(redditing(start_date, end_date))\n",
    "appended_data.append(Postdf)"
   ]
  },
  {
   "cell_type": "code",
   "execution_count": 6,
   "id": "17275103-b347-47bc-ab21-54ff606bcb4d",
   "metadata": {},
   "outputs": [],
   "source": [
    "start_date = datetime.date(2020, 1, 1)\n",
    "end_date = datetime.date(2020, 1, 4)\n",
    "delta = datetime.timedelta(days=1)\n",
    "\n"
   ]
  },
  {
   "cell_type": "code",
   "execution_count": 8,
   "id": "96c8b0ee-91fa-4c42-872a-65c781dc7422",
   "metadata": {},
   "outputs": [
    {
     "data": {
      "text/plain": [
       "'1'"
      ]
     },
     "execution_count": 8,
     "metadata": {},
     "output_type": "execute_result"
    }
   ],
   "source": [
    "day = start_date.strftime('%d')[1]\n",
    "month = start_date.strftime('%m')[1]\n",
    "day\n"
   ]
  },
  {
   "cell_type": "code",
   "execution_count": null,
   "id": "056c55d6-50b7-4654-9faa-9f55ba59800e",
   "metadata": {},
   "outputs": [],
   "source": []
  }
 ],
 "metadata": {
  "kernelspec": {
   "display_name": "Python 3",
   "language": "python",
   "name": "python3"
  },
  "language_info": {
   "codemirror_mode": {
    "name": "ipython",
    "version": 3
   },
   "file_extension": ".py",
   "mimetype": "text/x-python",
   "name": "python",
   "nbconvert_exporter": "python",
   "pygments_lexer": "ipython3",
   "version": "3.8.5"
  }
 },
 "nbformat": 4,
 "nbformat_minor": 5
}
