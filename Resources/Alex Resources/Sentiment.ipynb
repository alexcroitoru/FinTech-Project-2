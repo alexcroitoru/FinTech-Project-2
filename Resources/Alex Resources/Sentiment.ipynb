{
 "cells": [
  {
   "cell_type": "code",
   "execution_count": null,
   "id": "70cf56b3-d53c-4dae-8bd5-65f3e9c6da27",
   "metadata": {},
   "outputs": [],
   "source": [
    "import pandas as pd\n",
    "import matplotlib.pyplot as plt\n",
    "import seaborn as sns\n",
    "import numpy as np\n",
    "color = sns.color_palette()\n",
    "%matplotlib inline\n",
    "from wordcloud import WordCloud\n",
    "import plotly.offline as py\n",
    "py.init_notebook_mode(connected=True)\n",
    "import plotly.graph_objs as go\n",
    "import plotly.tools as tls\n",
    "import plotly.express as px\n",
    "import nltk\n",
    "from nltk.corpus import stopwords\n",
    "from nltk.tokenize import sent_tokenize, word_tokenize\n",
    "import re"
   ]
  },
  {
   "cell_type": "code",
   "execution_count": null,
   "id": "331c514b-af60-4264-ac8f-357585b2137f",
   "metadata": {},
   "outputs": [],
   "source": [
    "df = pd.read_csv('combined_csv.csv')\n",
    "df.head()"
   ]
  },
  {
   "cell_type": "code",
   "execution_count": null,
   "id": "c3292fc8-6139-4974-b6f1-3d76e251d756",
   "metadata": {
    "scrolled": true,
    "tags": []
   },
   "outputs": [],
   "source": [
    "stocks = pd.read_csv('stock_screener.csv')\n",
    "stock = stocks[\"Symbol\"]\n",
    "stock"
   ]
  },
  {
   "cell_type": "code",
   "execution_count": null,
   "id": "f298d638-32ce-47b2-9845-2404b13b836a",
   "metadata": {
    "scrolled": true,
    "tags": []
   },
   "outputs": [],
   "source": [
    "symbols = ['GME','AMC','BB','CLNE','CLOV','CLF','TLRY','NOK','TKAT','CRSR','OCGN','LFMD']"
   ]
  },
  {
   "cell_type": "code",
   "execution_count": null,
   "id": "8d7646b2-72d6-475f-af7f-dbced511440e",
   "metadata": {
    "scrolled": true,
    "tags": []
   },
   "outputs": [],
   "source": [
    "symbols = stock.values.tolist()\n",
    "symbols"
   ]
  },
  {
   "cell_type": "code",
   "execution_count": null,
   "id": "b377352d-cae7-4d07-800b-7ada0183643e",
   "metadata": {},
   "outputs": [],
   "source": [
    "fig = px.histogram(df, x=\"Score\")\n",
    "fig.update_traces(marker_color=\"turquoise\",marker_line_color='rgb(8,48,107)',\n",
    "                  marker_line_width=1.5)\n",
    "fig.update_layout(title_text='Comment Score')\n",
    "fig.show()"
   ]
  },
  {
   "cell_type": "code",
   "execution_count": null,
   "id": "b3d519aa-e3c1-4581-8d62-9cac5340199a",
   "metadata": {},
   "outputs": [],
   "source": [
    "df_1 = df[\"Score\"]\n",
    "df_1"
   ]
  },
  {
   "cell_type": "code",
   "execution_count": null,
   "id": "a0d00a41-27ee-4bbc-b31f-fc4baa7c7ab9",
   "metadata": {},
   "outputs": [],
   "source": [
    "filtered = df[df.Score > 30]"
   ]
  },
  {
   "cell_type": "code",
   "execution_count": null,
   "id": "ecd5acf0-87ab-499d-a25e-7ca1294ef4fe",
   "metadata": {},
   "outputs": [],
   "source": [
    "fig = px.histogram(filtered, x=\"Score\")\n",
    "fig.update_traces(marker_color=\"turquoise\",marker_line_color='rgb(8,48,107)',\n",
    "                  marker_line_width=1.5)\n",
    "fig.update_layout(title_text='Comment Score')\n",
    "fig.show()"
   ]
  },
  {
   "cell_type": "code",
   "execution_count": null,
   "id": "0944e2b5-0645-4217-ab5e-52d59368cdf7",
   "metadata": {},
   "outputs": [],
   "source": [
    "# Create stopword list:\n",
    "stopwords = set(stopwords.words('english'))\n",
    "textt = \" \".join(comment for comment in filtered.Comment)\n",
    "wordcloud = WordCloud(stopwords=stopwords).generate(textt)\n",
    "plt.imshow(wordcloud, interpolation='bilinear')\n",
    "plt.axis(\"off\")\n",
    "plt.savefig('wordcloud11.png')\n",
    "plt.show()"
   ]
  },
  {
   "cell_type": "code",
   "execution_count": null,
   "id": "bfcb85c5-701a-4567-812b-7444d7075bb1",
   "metadata": {},
   "outputs": [],
   "source": [
    "# assign reviews with score > 3 as positive sentiment\n",
    "# score < 3 negative sentiment\n",
    "# remove score = 3\n",
    "df = df[df['Score'] != 10]\n",
    "df['sentiment'] = df['Score'].apply(lambda rating : +1 if rating > 10 else -1)"
   ]
  },
  {
   "cell_type": "code",
   "execution_count": null,
   "id": "1e66e7bb-b81d-405a-a42b-5fb8250cb98d",
   "metadata": {},
   "outputs": [],
   "source": [
    "df"
   ]
  },
  {
   "cell_type": "code",
   "execution_count": null,
   "id": "66fbacad-6fcc-4528-9f46-e3a0d704391f",
   "metadata": {},
   "outputs": [],
   "source": [
    "# split df - positive and negative sentiment:\n",
    "positive = df[df['sentiment'] == 1]\n",
    "negative = df[df['sentiment'] == -1]"
   ]
  },
  {
   "cell_type": "code",
   "execution_count": null,
   "id": "cdefbf14-a360-4812-8c69-38c83487fa7d",
   "metadata": {},
   "outputs": [],
   "source": [
    "stopwords = stopwords\n",
    "## good and great removed because they were included in negative sentiment\n",
    "pos = \" \".join(review for review in positive.Comment)\n",
    "wordcloud2 = WordCloud(stopwords=stopwords).generate(pos)\n",
    "plt.imshow(wordcloud2, interpolation='bilinear')\n",
    "plt.axis(\"off\")\n",
    "plt.show()"
   ]
  },
  {
   "cell_type": "code",
   "execution_count": null,
   "id": "28b2bbb2-14e6-4463-9158-562728cf5b68",
   "metadata": {},
   "outputs": [],
   "source": [
    "neg = \" \".join(review for review in negative.Comment)\n",
    "wordcloud3 = WordCloud(stopwords=stopwords).generate(neg)\n",
    "plt.imshow(wordcloud3, interpolation='bilinear')\n",
    "plt.axis(\"off\")\n",
    "plt.savefig('wordcloud33.png')\n",
    "plt.show()"
   ]
  },
  {
   "cell_type": "code",
   "execution_count": null,
   "id": "a569fc59-c3cc-4a1f-973b-188a92a58d4b",
   "metadata": {},
   "outputs": [],
   "source": [
    "def remove_punctuation(text):\n",
    "    final = \"\".join(u for u in text if u not in (\"?\", \".\", \";\", \":\",  \"!\",'\"', \"-\"))\n",
    "    return final\n",
    "df['Comment'] = df['Comment'].apply(remove_punctuation)\n",
    "df = df.dropna(subset=['Author'])\n",
    "df['Author'] = df['Author'].apply(remove_punctuation)"
   ]
  },
  {
   "cell_type": "code",
   "execution_count": null,
   "id": "45925d62-697f-4683-8fee-8f2624739516",
   "metadata": {},
   "outputs": [],
   "source": [
    "df"
   ]
  },
  {
   "cell_type": "code",
   "execution_count": null,
   "id": "f5155734-9daa-4fd4-b28e-49440511c4b3",
   "metadata": {},
   "outputs": [],
   "source": [
    "dfNew = df[['Comment','sentiment']]\n",
    "dfNew.head()"
   ]
  },
  {
   "cell_type": "code",
   "execution_count": null,
   "id": "8fd8f4c6-f83c-4972-97d4-c3d898cc8357",
   "metadata": {},
   "outputs": [],
   "source": [
    "# random split train and test data\n",
    "index = df.index\n",
    "dfNew['random_number'] = np.random.randn(len(index))\n",
    "train = dfNew[dfNew['random_number'] <= 0.8]\n",
    "test = dfNew[dfNew['random_number'] > 0.8]"
   ]
  },
  {
   "cell_type": "code",
   "execution_count": null,
   "id": "38cbab08-7588-40dc-b7d2-0eb5222beeb7",
   "metadata": {},
   "outputs": [],
   "source": [
    "# count vectorizer:\n",
    "from sklearn.feature_extraction.text import CountVectorizer\n",
    "vectorizer = CountVectorizer(token_pattern=r'\\b\\w+\\b')\n",
    "train_matrix = vectorizer.fit_transform(train['Comment'])\n",
    "test_matrix = vectorizer.transform(test['Comment'])"
   ]
  },
  {
   "cell_type": "code",
   "execution_count": null,
   "id": "31b01e65-73b7-4378-a98f-d44eb095a31b",
   "metadata": {},
   "outputs": [],
   "source": [
    "# Logistic Regression\n",
    "from sklearn.linear_model import LogisticRegression\n",
    "lr = LogisticRegression()"
   ]
  },
  {
   "cell_type": "code",
   "execution_count": null,
   "id": "0219592d-17b5-4fde-82ba-7fe7df12850f",
   "metadata": {},
   "outputs": [],
   "source": [
    "X_train = train_matrix\n",
    "X_test = test_matrix\n",
    "y_train = train['sentiment']\n",
    "y_test = test['sentiment']"
   ]
  },
  {
   "cell_type": "code",
   "execution_count": null,
   "id": "54e1374e-d1bd-4316-bb11-39ed8035244e",
   "metadata": {},
   "outputs": [],
   "source": [
    "lr.fit(X_train,y_train)"
   ]
  },
  {
   "cell_type": "code",
   "execution_count": null,
   "id": "58eff90d-1c2a-4e1e-a7bc-f6b89cf0b96a",
   "metadata": {},
   "outputs": [],
   "source": [
    "predictions = lr.predict(X_test)"
   ]
  },
  {
   "cell_type": "code",
   "execution_count": null,
   "id": "8c7c4915-6322-4635-8ef8-cedaec91b56c",
   "metadata": {},
   "outputs": [],
   "source": [
    "# find accuracy, precision, recall:\n",
    "from sklearn.metrics import confusion_matrix,classification_report\n",
    "new = np.asarray(y_test)\n",
    "confusion_matrix(predictions,y_test)"
   ]
  },
  {
   "cell_type": "code",
   "execution_count": null,
   "id": "4f92a503-de7e-47c5-b4b2-52bf563b7d74",
   "metadata": {},
   "outputs": [],
   "source": [
    "print(classification_report(predictions,y_test))\n"
   ]
  },
  {
   "cell_type": "code",
   "execution_count": null,
   "id": "6d4bb711-304e-4c50-b2eb-0be35cb0e182",
   "metadata": {},
   "outputs": [],
   "source": [
    "new = df[df['Comment'].isin([stock])]\n",
    "new.head()"
   ]
  },
  {
   "cell_type": "code",
   "execution_count": null,
   "id": "7a264e6d-7fe9-4d6b-9729-957cbacd1f9c",
   "metadata": {},
   "outputs": [],
   "source": [
    "df['tokenized_sents'] = df.apply(lambda column: nltk.word_tokenize(column['Comment']), axis=1)\n",
    "df"
   ]
  },
  {
   "cell_type": "code",
   "execution_count": null,
   "id": "4e7481e3-c260-46c2-bb2d-3c84bc87ebb3",
   "metadata": {},
   "outputs": [],
   "source": [
    "new = df[df['tokenized_sents'].isin([stock])]\n",
    "new.head()"
   ]
  },
  {
   "cell_type": "code",
   "execution_count": null,
   "id": "173798e1-0dad-4f43-8b5e-a9d8a9580622",
   "metadata": {},
   "outputs": [],
   "source": [
    "search_list = symbols\n",
    "\n",
    "df['symbols'] = df.Comment.str.extract('({0})'.format('|'.join(search_list)), flags=re.IGNORECASE)\n",
    "result = df[~pd.isna(df.symbols)]\n",
    "\n",
    "result"
   ]
  },
  {
   "cell_type": "markdown",
   "id": "862cb0e7-120b-4903-9350-bbcc77c40f11",
   "metadata": {},
   "source": [
    "### Test Code"
   ]
  },
  {
   "cell_type": "code",
   "execution_count": null,
   "id": "130d402b-f145-4b6f-8dcf-7656e6692fac",
   "metadata": {},
   "outputs": [],
   "source": [
    "import pandas as pd\n",
    "import matplotlib.pyplot as plt\n",
    "import seaborn as sns\n",
    "import numpy as np\n",
    "color = sns.color_palette()\n",
    "%matplotlib inline\n",
    "from wordcloud import WordCloud\n",
    "import plotly.offline as py\n",
    "py.init_notebook_mode(connected=True)\n",
    "import plotly.graph_objs as go\n",
    "import plotly.tools as tls\n",
    "import plotly.express as px\n",
    "import nltk\n",
    "from nltk.corpus import stopwords\n",
    "from nltk.tokenize import sent_tokenize, word_tokenize\n",
    "import re\n",
    "\n"
   ]
  },
  {
   "cell_type": "code",
   "execution_count": null,
   "id": "14880f0c-864e-4eeb-b235-7f40a9de1c9a",
   "metadata": {},
   "outputs": [],
   "source": [
    "symbols = ['GME','AMC','BB','CLNE','CLOV','CLF','TLRY','NOK','TKAT','CRSR','OCGN','LFMD']\n",
    "\n",
    "df = pd.read_csv('combined_csv.csv')\n",
    "df.head()\n",
    "\n"
   ]
  },
  {
   "cell_type": "code",
   "execution_count": null,
   "id": "8943d4d6-347b-4650-950a-5af7681279f3",
   "metadata": {},
   "outputs": [],
   "source": [
    "search_list = symbols\n",
    "\n",
    "df['symbols'] = df.Comment.str.extract('({0})'.format('|'.join(search_list)), flags=re.IGNORECASE)\n",
    "result = df[~pd.isna(df.symbols)]\n",
    "\n",
    "result\n",
    "\n"
   ]
  },
  {
   "cell_type": "code",
   "execution_count": null,
   "id": "45e3f954-4104-4e14-b5cf-73ec4ad20600",
   "metadata": {},
   "outputs": [],
   "source": [
    "# Create stopword list:\n",
    "stopwords = set(stopwords.words('english'))\n",
    "textt = \" \".join(comment for comment in result.Comment)\n",
    "wordcloud = WordCloud(stopwords=stopwords).generate(textt)\n",
    "plt.imshow(wordcloud, interpolation='bilinear')\n",
    "plt.axis(\"off\")\n",
    "plt.savefig('wordcloud11.png')\n",
    "plt.show()\n",
    "\n"
   ]
  },
  {
   "cell_type": "code",
   "execution_count": null,
   "id": "a2b326bf-c128-49e2-ba27-4494fa319861",
   "metadata": {},
   "outputs": [],
   "source": [
    "# assign reviews with score > 3 as positive sentiment\n",
    "# score < 3 negative sentiment\n",
    "# remove score = 3\n",
    "result = result[result['Score'] != 10]\n",
    "result['sentiment'] = result['Score'].apply(lambda rating : +1 if rating > 10 else -1)\n",
    "\n"
   ]
  },
  {
   "cell_type": "code",
   "execution_count": null,
   "id": "2ea9c76d-e345-406e-a29b-6f3604c7388d",
   "metadata": {},
   "outputs": [],
   "source": [
    "dfNew = result[['Comment','sentiment']]\n",
    "dfNew.head()\n",
    "\n"
   ]
  },
  {
   "cell_type": "code",
   "execution_count": null,
   "id": "20fbbee5-b11d-407a-b9b8-7d1e16b75625",
   "metadata": {},
   "outputs": [],
   "source": [
    "# random split train and test data\n",
    "index = result.index\n",
    "dfNew['random_number'] = np.random.randn(len(index))\n",
    "train = dfNew[dfNew['random_number'] <= 0.8]\n",
    "test = dfNew[dfNew['random_number'] > 0.8]\n",
    "\n"
   ]
  },
  {
   "cell_type": "code",
   "execution_count": null,
   "id": "6cf40180-686c-4f0a-b231-90698123db4e",
   "metadata": {},
   "outputs": [],
   "source": [
    "from sklearn.feature_extraction.text import CountVectorizer\n",
    "vectorizer = CountVectorizer(token_pattern=r'\\b\\w+\\b')\n",
    "train_matrix = vectorizer.fit_transform(train['Comment'])\n",
    "test_matrix = vectorizer.transform(test['Comment'])\n",
    "\n"
   ]
  },
  {
   "cell_type": "code",
   "execution_count": null,
   "id": "d7b3944b-5865-4acb-9d52-23eb7404a8a6",
   "metadata": {},
   "outputs": [],
   "source": [
    "# Logistic Regression\n",
    "from sklearn.linear_model import LogisticRegression\n",
    "lr = LogisticRegression()\n",
    "\n"
   ]
  },
  {
   "cell_type": "code",
   "execution_count": null,
   "id": "df597e27-0de7-4f53-b6a2-ff952ea6cbe1",
   "metadata": {},
   "outputs": [],
   "source": [
    "X_train = train_matrix\n",
    "X_test = test_matrix\n",
    "y_train = train['sentiment']\n",
    "y_test = test['sentiment']\n",
    "\n"
   ]
  },
  {
   "cell_type": "code",
   "execution_count": null,
   "id": "490d1c93-c896-44ab-ab04-e45aae381389",
   "metadata": {},
   "outputs": [],
   "source": [
    "lr.fit(X_train,y_train)\n",
    "\n"
   ]
  },
  {
   "cell_type": "code",
   "execution_count": null,
   "id": "95ed4d9d-681b-4f17-a7c8-c0cf353fb634",
   "metadata": {},
   "outputs": [],
   "source": [
    "predictions = lr.predict(X_test)\n",
    "\n"
   ]
  },
  {
   "cell_type": "code",
   "execution_count": null,
   "id": "d4dfece8-744a-43a5-b70c-a6af754497dc",
   "metadata": {},
   "outputs": [],
   "source": [
    "# find accuracy, precision, recall:\n",
    "from sklearn.metrics import confusion_matrix,classification_report\n",
    "new = np.asarray(y_test)\n",
    "confusion_matrix(predictions,y_test)\n",
    "\n"
   ]
  },
  {
   "cell_type": "code",
   "execution_count": null,
   "id": "c43f72da-8571-49e2-8312-e9ef0b2b39c4",
   "metadata": {},
   "outputs": [],
   "source": [
    "print(classification_report(predictions,y_test))\n",
    "\n"
   ]
  }
 ],
 "metadata": {
  "kernelspec": {
   "display_name": "Python 3",
   "language": "python",
   "name": "python3"
  },
  "language_info": {
   "codemirror_mode": {
    "name": "ipython",
    "version": 3
   },
   "file_extension": ".py",
   "mimetype": "text/x-python",
   "name": "python",
   "nbconvert_exporter": "python",
   "pygments_lexer": "ipython3",
   "version": "3.8.5"
  }
 },
 "nbformat": 4,
 "nbformat_minor": 5
}
