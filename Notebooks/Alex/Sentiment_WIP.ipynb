{
 "cells": [
  {
   "cell_type": "code",
   "execution_count": 1,
   "id": "cd219b85-db6a-4b77-89da-809191a87100",
   "metadata": {},
   "outputs": [
    {
     "data": {
      "text/html": [
       "        <script type=\"text/javascript\">\n",
       "        window.PlotlyConfig = {MathJaxConfig: 'local'};\n",
       "        if (window.MathJax) {MathJax.Hub.Config({SVG: {font: \"STIX-Web\"}});}\n",
       "        if (typeof require !== 'undefined') {\n",
       "        require.undef(\"plotly\");\n",
       "        requirejs.config({\n",
       "            paths: {\n",
       "                'plotly': ['https://cdn.plot.ly/plotly-2.2.0.min']\n",
       "            }\n",
       "        });\n",
       "        require(['plotly'], function(Plotly) {\n",
       "            window._Plotly = Plotly;\n",
       "        });\n",
       "        }\n",
       "        </script>\n",
       "        "
      ]
     },
     "metadata": {},
     "output_type": "display_data"
    }
   ],
   "source": [
    "import pandas as pd\n",
    "import matplotlib.pyplot as plt\n",
    "import seaborn as sns\n",
    "import numpy as np\n",
    "color = sns.color_palette()\n",
    "%matplotlib inline\n",
    "from wordcloud import WordCloud\n",
    "import plotly.offline as py\n",
    "py.init_notebook_mode(connected=True)\n",
    "import plotly.graph_objs as go\n",
    "import plotly.tools as tls\n",
    "import plotly.express as px\n",
    "import nltk\n",
    "from nltk.corpus import stopwords\n",
    "from nltk.tokenize import sent_tokenize, word_tokenize\n",
    "import re\n",
    "\n"
   ]
  },
  {
   "cell_type": "code",
   "execution_count": 17,
   "id": "338d3d5f-e982-4fe8-8631-fc36201caca8",
   "metadata": {},
   "outputs": [
    {
     "data": {
      "text/html": [
       "<div>\n",
       "<style scoped>\n",
       "    .dataframe tbody tr th:only-of-type {\n",
       "        vertical-align: middle;\n",
       "    }\n",
       "\n",
       "    .dataframe tbody tr th {\n",
       "        vertical-align: top;\n",
       "    }\n",
       "\n",
       "    .dataframe thead th {\n",
       "        text-align: right;\n",
       "    }\n",
       "</style>\n",
       "<table border=\"1\" class=\"dataframe\">\n",
       "  <thead>\n",
       "    <tr style=\"text-align: right;\">\n",
       "      <th></th>\n",
       "      <th>Unnamed: 0</th>\n",
       "      <th>Author</th>\n",
       "      <th>Comment</th>\n",
       "      <th>Score</th>\n",
       "      <th>timestamp</th>\n",
       "    </tr>\n",
       "  </thead>\n",
       "  <tbody>\n",
       "    <tr>\n",
       "      <th>0</th>\n",
       "      <td>0</td>\n",
       "      <td>InMuskWeTruskk</td>\n",
       "      <td>Just went to the supermarket and it was stocke...</td>\n",
       "      <td>76</td>\n",
       "      <td>8/2/2021 7:29</td>\n",
       "    </tr>\n",
       "    <tr>\n",
       "      <th>1</th>\n",
       "      <td>1</td>\n",
       "      <td>Donkeycow15</td>\n",
       "      <td>Unpopular opinion - we need bears so we can ha...</td>\n",
       "      <td>61</td>\n",
       "      <td>8/2/2021 5:21</td>\n",
       "    </tr>\n",
       "    <tr>\n",
       "      <th>2</th>\n",
       "      <td>2</td>\n",
       "      <td>NervousTumbleweed</td>\n",
       "      <td>I dont want to go to work today</td>\n",
       "      <td>61</td>\n",
       "      <td>8/2/2021 5:46</td>\n",
       "    </tr>\n",
       "    <tr>\n",
       "      <th>3</th>\n",
       "      <td>3</td>\n",
       "      <td>spyaintnobitch</td>\n",
       "      <td>JPow can never turn off the printers now. We a...</td>\n",
       "      <td>49</td>\n",
       "      <td>8/2/2021 6:47</td>\n",
       "    </tr>\n",
       "    <tr>\n",
       "      <th>4</th>\n",
       "      <td>4</td>\n",
       "      <td>toydan</td>\n",
       "      <td>Daily reminder\\n\\n#The dollar is a depreciatin...</td>\n",
       "      <td>48</td>\n",
       "      <td>8/2/2021 7:08</td>\n",
       "    </tr>\n",
       "  </tbody>\n",
       "</table>\n",
       "</div>"
      ],
      "text/plain": [
       "   Unnamed: 0             Author  \\\n",
       "0           0     InMuskWeTruskk   \n",
       "1           1        Donkeycow15   \n",
       "2           2  NervousTumbleweed   \n",
       "3           3     spyaintnobitch   \n",
       "4           4             toydan   \n",
       "\n",
       "                                             Comment  Score      timestamp  \n",
       "0  Just went to the supermarket and it was stocke...     76  8/2/2021 7:29  \n",
       "1  Unpopular opinion - we need bears so we can ha...     61  8/2/2021 5:21  \n",
       "2                    I dont want to go to work today     61  8/2/2021 5:46  \n",
       "3  JPow can never turn off the printers now. We a...     49  8/2/2021 6:47  \n",
       "4  Daily reminder\\n\\n#The dollar is a depreciatin...     48  8/2/2021 7:08  "
      ]
     },
     "execution_count": 17,
     "metadata": {},
     "output_type": "execute_result"
    }
   ],
   "source": [
    "symbols = ['GME','AMC','BB','CLNE','CLOV','CLF','TLRY','NOK','TKAT','CRSR','OCGN','LFMD']\n",
    "\n",
    "df = pd.read_csv('combined_csv.csv')\n",
    "df.head()"
   ]
  },
  {
   "cell_type": "code",
   "execution_count": 18,
   "id": "5c0f90e0-b960-4ed3-ac2d-f0a60f201c23",
   "metadata": {},
   "outputs": [
    {
     "data": {
      "text/html": [
       "<div>\n",
       "<style scoped>\n",
       "    .dataframe tbody tr th:only-of-type {\n",
       "        vertical-align: middle;\n",
       "    }\n",
       "\n",
       "    .dataframe tbody tr th {\n",
       "        vertical-align: top;\n",
       "    }\n",
       "\n",
       "    .dataframe thead th {\n",
       "        text-align: right;\n",
       "    }\n",
       "</style>\n",
       "<table border=\"1\" class=\"dataframe\">\n",
       "  <thead>\n",
       "    <tr style=\"text-align: right;\">\n",
       "      <th></th>\n",
       "      <th>Unnamed: 0</th>\n",
       "      <th>Author</th>\n",
       "      <th>Comment</th>\n",
       "      <th>Score</th>\n",
       "      <th>timestamp</th>\n",
       "      <th>symbols</th>\n",
       "    </tr>\n",
       "  </thead>\n",
       "  <tbody>\n",
       "    <tr>\n",
       "      <th>5</th>\n",
       "      <td>5</td>\n",
       "      <td>Kant_touch</td>\n",
       "      <td>The year is 2040, Ive just blown up my account...</td>\n",
       "      <td>47</td>\n",
       "      <td>8/2/2021 9:13</td>\n",
       "      <td>bb</td>\n",
       "    </tr>\n",
       "    <tr>\n",
       "      <th>93</th>\n",
       "      <td>93</td>\n",
       "      <td>CJ_2013</td>\n",
       "      <td>Wow. Im officially above water in CLOV. Is thi...</td>\n",
       "      <td>12</td>\n",
       "      <td>8/2/2021 12:56</td>\n",
       "      <td>CLOV</td>\n",
       "    </tr>\n",
       "    <tr>\n",
       "      <th>95</th>\n",
       "      <td>95</td>\n",
       "      <td>xjayroox</td>\n",
       "      <td>CLOV owners celebrating only being down 27% now</td>\n",
       "      <td>12</td>\n",
       "      <td>8/2/2021 13:16</td>\n",
       "      <td>CLOV</td>\n",
       "    </tr>\n",
       "    <tr>\n",
       "      <th>98</th>\n",
       "      <td>98</td>\n",
       "      <td>thegodrf</td>\n",
       "      <td>$CRSR time tomorrow , crush earnings and stay ...</td>\n",
       "      <td>11</td>\n",
       "      <td>8/2/2021 14:09</td>\n",
       "      <td>CRSR</td>\n",
       "    </tr>\n",
       "    <tr>\n",
       "      <th>122</th>\n",
       "      <td>122</td>\n",
       "      <td>Maximum9199</td>\n",
       "      <td>Member BB, ohhh I Member</td>\n",
       "      <td>9</td>\n",
       "      <td>8/2/2021 6:19</td>\n",
       "      <td>BB</td>\n",
       "    </tr>\n",
       "    <tr>\n",
       "      <th>...</th>\n",
       "      <td>...</td>\n",
       "      <td>...</td>\n",
       "      <td>...</td>\n",
       "      <td>...</td>\n",
       "      <td>...</td>\n",
       "      <td>...</td>\n",
       "    </tr>\n",
       "    <tr>\n",
       "      <th>7429</th>\n",
       "      <td>104</td>\n",
       "      <td>reno222</td>\n",
       "      <td>I'm pretty fucking drunk right now, it's 12:20...</td>\n",
       "      <td>11</td>\n",
       "      <td>8/17/2021 7:20</td>\n",
       "      <td>amc</td>\n",
       "    </tr>\n",
       "    <tr>\n",
       "      <th>7585</th>\n",
       "      <td>260</td>\n",
       "      <td>mMounirM</td>\n",
       "      <td>CRSR really is a piece of shit</td>\n",
       "      <td>10</td>\n",
       "      <td>8/17/2021 9:02</td>\n",
       "      <td>CRSR</td>\n",
       "    </tr>\n",
       "    <tr>\n",
       "      <th>7621</th>\n",
       "      <td>296</td>\n",
       "      <td>bigtexas91</td>\n",
       "      <td>Guy in the stall next to me is bawling his eye...</td>\n",
       "      <td>9</td>\n",
       "      <td>8/17/2021 12:05</td>\n",
       "      <td>bb</td>\n",
       "    </tr>\n",
       "    <tr>\n",
       "      <th>7647</th>\n",
       "      <td>322</td>\n",
       "      <td>Slave_to_the_bets</td>\n",
       "      <td>$36K today, first on SPY Puts then on calls. N...</td>\n",
       "      <td>8</td>\n",
       "      <td>8/17/2021 14:52</td>\n",
       "      <td>bb</td>\n",
       "    </tr>\n",
       "    <tr>\n",
       "      <th>7696</th>\n",
       "      <td>371</td>\n",
       "      <td>criches330</td>\n",
       "      <td>Clean Energy Fuels Corp. (NASDAQ:CLNE) announc...</td>\n",
       "      <td>8</td>\n",
       "      <td>8/17/2021 9:58</td>\n",
       "      <td>CLNE</td>\n",
       "    </tr>\n",
       "  </tbody>\n",
       "</table>\n",
       "<p>397 rows × 6 columns</p>\n",
       "</div>"
      ],
      "text/plain": [
       "      Unnamed: 0             Author  \\\n",
       "5              5         Kant_touch   \n",
       "93            93            CJ_2013   \n",
       "95            95           xjayroox   \n",
       "98            98           thegodrf   \n",
       "122          122        Maximum9199   \n",
       "...          ...                ...   \n",
       "7429         104            reno222   \n",
       "7585         260           mMounirM   \n",
       "7621         296         bigtexas91   \n",
       "7647         322  Slave_to_the_bets   \n",
       "7696         371         criches330   \n",
       "\n",
       "                                                Comment  Score  \\\n",
       "5     The year is 2040, Ive just blown up my account...     47   \n",
       "93    Wow. Im officially above water in CLOV. Is thi...     12   \n",
       "95      CLOV owners celebrating only being down 27% now     12   \n",
       "98    $CRSR time tomorrow , crush earnings and stay ...     11   \n",
       "122                            Member BB, ohhh I Member      9   \n",
       "...                                                 ...    ...   \n",
       "7429  I'm pretty fucking drunk right now, it's 12:20...     11   \n",
       "7585                    CRSR really is a piece of shit      10   \n",
       "7621  Guy in the stall next to me is bawling his eye...      9   \n",
       "7647  $36K today, first on SPY Puts then on calls. N...      8   \n",
       "7696  Clean Energy Fuels Corp. (NASDAQ:CLNE) announc...      8   \n",
       "\n",
       "            timestamp symbols  \n",
       "5       8/2/2021 9:13      bb  \n",
       "93     8/2/2021 12:56    CLOV  \n",
       "95     8/2/2021 13:16    CLOV  \n",
       "98     8/2/2021 14:09    CRSR  \n",
       "122     8/2/2021 6:19      BB  \n",
       "...               ...     ...  \n",
       "7429   8/17/2021 7:20     amc  \n",
       "7585   8/17/2021 9:02    CRSR  \n",
       "7621  8/17/2021 12:05      bb  \n",
       "7647  8/17/2021 14:52      bb  \n",
       "7696   8/17/2021 9:58    CLNE  \n",
       "\n",
       "[397 rows x 6 columns]"
      ]
     },
     "execution_count": 18,
     "metadata": {},
     "output_type": "execute_result"
    }
   ],
   "source": [
    "search_list = symbols\n",
    "\n",
    "df['symbols'] = df.Comment.str.extract('({0})'.format('|'.join(search_list)), flags=re.IGNORECASE)\n",
    "result = df[~pd.isna(df.symbols)]\n",
    "\n",
    "result\n"
   ]
  },
  {
   "cell_type": "code",
   "execution_count": 4,
   "id": "80dd5b7e-dafd-4393-a5cc-c4c351311ed4",
   "metadata": {},
   "outputs": [
    {
     "data": {
      "image/png": "[encoded data removed]",
      "text/plain": [
       "<Figure size 432x288 with 1 Axes>"
      ]
     },
     "metadata": {
      "needs_background": "light"
     },
     "output_type": "display_data"
    }
   ],
   "source": [
    "# Create stopword list:\n",
    "stopwords = set(stopwords.words('english'))\n",
    "textt = \" \".join(comment for comment in result.Comment)\n",
    "wordcloud = WordCloud(stopwords=stopwords).generate(textt)\n",
    "plt.imshow(wordcloud, interpolation='bilinear')\n",
    "plt.axis(\"off\")\n",
    "plt.savefig('wordcloud11.png')\n",
    "plt.show()\n"
   ]
  },
  {
   "cell_type": "code",
   "execution_count": 5,
   "id": "2ca01415-f44a-4fdc-a9d5-838f527f93a1",
   "metadata": {},
   "outputs": [
    {
     "name": "stderr",
     "output_type": "stream",
     "text": [
      "<ipython-input-5-f15584d9753f>:5: SettingWithCopyWarning:\n",
      "\n",
      "\n",
      "A value is trying to be set on a copy of a slice from a DataFrame.\n",
      "Try using .loc[row_indexer,col_indexer] = value instead\n",
      "\n",
      "See the caveats in the documentation: https://pandas.pydata.org/pandas-docs/stable/user_guide/indexing.html#returning-a-view-versus-a-copy\n",
      "\n"
     ]
    }
   ],
   "source": [
    "# assign reviews with score > 3 as positive sentiment\n",
    "# score < 3 negative sentiment\n",
    "# remove score = 3\n",
    "result = result[result['Score'] != 10]\n",
    "result['sentiment'] = result['Score'].apply(lambda rating : +1 if rating > 10 else -1)\n",
    "\n"
   ]
  },
  {
   "cell_type": "code",
   "execution_count": 6,
   "id": "16ac43f4-bf02-477c-a1bf-86346dacf0d1",
   "metadata": {},
   "outputs": [
    {
     "data": {
      "text/html": [
       "<div>\n",
       "<style scoped>\n",
       "    .dataframe tbody tr th:only-of-type {\n",
       "        vertical-align: middle;\n",
       "    }\n",
       "\n",
       "    .dataframe tbody tr th {\n",
       "        vertical-align: top;\n",
       "    }\n",
       "\n",
       "    .dataframe thead th {\n",
       "        text-align: right;\n",
       "    }\n",
       "</style>\n",
       "<table border=\"1\" class=\"dataframe\">\n",
       "  <thead>\n",
       "    <tr style=\"text-align: right;\">\n",
       "      <th></th>\n",
       "      <th>Comment</th>\n",
       "      <th>sentiment</th>\n",
       "    </tr>\n",
       "  </thead>\n",
       "  <tbody>\n",
       "    <tr>\n",
       "      <th>5</th>\n",
       "      <td>The year is 2040, Ive just blown up my account...</td>\n",
       "      <td>1</td>\n",
       "    </tr>\n",
       "    <tr>\n",
       "      <th>93</th>\n",
       "      <td>Wow. Im officially above water in CLOV. Is thi...</td>\n",
       "      <td>1</td>\n",
       "    </tr>\n",
       "    <tr>\n",
       "      <th>95</th>\n",
       "      <td>CLOV owners celebrating only being down 27% now</td>\n",
       "      <td>1</td>\n",
       "    </tr>\n",
       "    <tr>\n",
       "      <th>98</th>\n",
       "      <td>$CRSR time tomorrow , crush earnings and stay ...</td>\n",
       "      <td>1</td>\n",
       "    </tr>\n",
       "    <tr>\n",
       "      <th>122</th>\n",
       "      <td>Member BB, ohhh I Member</td>\n",
       "      <td>-1</td>\n",
       "    </tr>\n",
       "  </tbody>\n",
       "</table>\n",
       "</div>"
      ],
      "text/plain": [
       "                                               Comment  sentiment\n",
       "5    The year is 2040, Ive just blown up my account...          1\n",
       "93   Wow. Im officially above water in CLOV. Is thi...          1\n",
       "95     CLOV owners celebrating only being down 27% now          1\n",
       "98   $CRSR time tomorrow , crush earnings and stay ...          1\n",
       "122                           Member BB, ohhh I Member         -1"
      ]
     },
     "execution_count": 6,
     "metadata": {},
     "output_type": "execute_result"
    }
   ],
   "source": [
    "dfNew = result[['Comment','sentiment']]\n",
    "dfNew.head()\n"
   ]
  },
  {
   "cell_type": "code",
   "execution_count": 7,
   "id": "365e50c7-2668-45a6-9e26-aa6032241112",
   "metadata": {},
   "outputs": [
    {
     "name": "stderr",
     "output_type": "stream",
     "text": [
      "<ipython-input-7-4955e1c5388e>:3: SettingWithCopyWarning:\n",
      "\n",
      "\n",
      "A value is trying to be set on a copy of a slice from a DataFrame.\n",
      "Try using .loc[row_indexer,col_indexer] = value instead\n",
      "\n",
      "See the caveats in the documentation: https://pandas.pydata.org/pandas-docs/stable/user_guide/indexing.html#returning-a-view-versus-a-copy\n",
      "\n"
     ]
    }
   ],
   "source": [
    "# random split train and test data\n",
    "index = result.index\n",
    "dfNew['random_number'] = np.random.randn(len(index))\n",
    "train = dfNew[dfNew['random_number'] <= 0.8]\n",
    "test = dfNew[dfNew['random_number'] > 0.8]"
   ]
  },
  {
   "cell_type": "code",
   "execution_count": 8,
   "id": "6f189e4f-34f3-42e3-8736-9b762bff7aff",
   "metadata": {},
   "outputs": [],
   "source": [
    "from sklearn.feature_extraction.text import CountVectorizer\n",
    "vectorizer = CountVectorizer(token_pattern=r'\\b\\w+\\b')\n",
    "train_matrix = vectorizer.fit_transform(train['Comment'])\n",
    "test_matrix = vectorizer.transform(test['Comment'])"
   ]
  },
  {
   "cell_type": "code",
   "execution_count": 9,
   "id": "c2733cd1-382a-459c-a14a-857100f210e4",
   "metadata": {},
   "outputs": [],
   "source": [
    "# Logistic Regression\n",
    "from sklearn.linear_model import LogisticRegression\n",
    "lr = LogisticRegression()"
   ]
  },
  {
   "cell_type": "code",
   "execution_count": 10,
   "id": "52366e53-58ba-430b-b8e3-b18c66981592",
   "metadata": {},
   "outputs": [],
   "source": [
    "X_train = train_matrix\n",
    "X_test = test_matrix\n",
    "y_train = train['sentiment']\n",
    "y_test = test['sentiment']"
   ]
  },
  {
   "cell_type": "code",
   "execution_count": 11,
   "id": "00d05a67-a2ac-4cd3-8ef7-1a6d74aa63c9",
   "metadata": {},
   "outputs": [
    {
     "data": {
      "text/plain": [
       "LogisticRegression()"
      ]
     },
     "execution_count": 11,
     "metadata": {},
     "output_type": "execute_result"
    }
   ],
   "source": [
    "lr.fit(X_train,y_train)\n"
   ]
  },
  {
   "cell_type": "code",
   "execution_count": 12,
   "id": "5eb20a08-1648-4ac6-a256-395bb10175c3",
   "metadata": {},
   "outputs": [],
   "source": [
    "predictions = lr.predict(X_test)"
   ]
  },
  {
   "cell_type": "code",
   "execution_count": 13,
   "id": "0134dfe5-29ef-429c-9a03-87df46e2998b",
   "metadata": {},
   "outputs": [
    {
     "data": {
      "text/plain": [
       "array([[33, 14],\n",
       "       [ 8, 23]], dtype=int64)"
      ]
     },
     "execution_count": 13,
     "metadata": {},
     "output_type": "execute_result"
    }
   ],
   "source": [
    "# find accuracy, precision, recall:\n",
    "from sklearn.metrics import confusion_matrix,classification_report\n",
    "new = np.asarray(y_test)\n",
    "confusion_matrix(predictions,y_test)\n"
   ]
  },
  {
   "cell_type": "code",
   "execution_count": 14,
   "id": "91c472f5-d028-401c-9396-7457085a7b19",
   "metadata": {},
   "outputs": [
    {
     "name": "stdout",
     "output_type": "stream",
     "text": [
      "              precision    recall  f1-score   support\n",
      "\n",
      "          -1       0.80      0.70      0.75        47\n",
      "           1       0.62      0.74      0.68        31\n",
      "\n",
      "    accuracy                           0.72        78\n",
      "   macro avg       0.71      0.72      0.71        78\n",
      "weighted avg       0.73      0.72      0.72        78\n",
      "\n"
     ]
    }
   ],
   "source": [
    "print(classification_report(predictions,y_test))"
   ]
  }
 ],
 "metadata": {
  "kernelspec": {
   "display_name": "Python 3",
   "language": "python",
   "name": "python3"
  },
  "language_info": {
   "codemirror_mode": {
    "name": "ipython",
    "version": 3
   },
   "file_extension": ".py",
   "mimetype": "text/x-python",
   "name": "python",
   "nbconvert_exporter": "python",
   "pygments_lexer": "ipython3",
   "version": "3.8.5"
  }
 },
 "nbformat": 4,
 "nbformat_minor": 5
}
