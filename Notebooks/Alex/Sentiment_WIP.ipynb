{
 "cells": [
  {
   "cell_type": "code",
   "execution_count": 24,
   "id": "cd219b85-db6a-4b77-89da-809191a87100",
   "metadata": {},
   "outputs": [
    {
     "data": {
      "text/html": [
       "        <script type=\"text/javascript\">\n",
       "        window.PlotlyConfig = {MathJaxConfig: 'local'};\n",
       "        if (window.MathJax) {MathJax.Hub.Config({SVG: {font: \"STIX-Web\"}});}\n",
       "        if (typeof require !== 'undefined') {\n",
       "        require.undef(\"plotly\");\n",
       "        requirejs.config({\n",
       "            paths: {\n",
       "                'plotly': ['https://cdn.plot.ly/plotly-2.2.0.min']\n",
       "            }\n",
       "        });\n",
       "        require(['plotly'], function(Plotly) {\n",
       "            window._Plotly = Plotly;\n",
       "        });\n",
       "        }\n",
       "        </script>\n",
       "        "
      ]
     },
     "metadata": {},
     "output_type": "display_data"
    }
   ],
   "source": [
    "import pandas as pd\n",
    "import matplotlib.pyplot as plt\n",
    "import seaborn as sns\n",
    "import numpy as np\n",
    "color = sns.color_palette()\n",
    "%matplotlib inline\n",
    "from wordcloud import WordCloud\n",
    "import plotly.offline as py\n",
    "py.init_notebook_mode(connected=True)\n",
    "import plotly.graph_objs as go\n",
    "import plotly.tools as tls\n",
    "import plotly.express as px\n",
    "import nltk\n",
    "from nltk.corpus import stopwords\n",
    "from nltk.tokenize import sent_tokenize, word_tokenize\n",
    "import re"
   ]
  },
  {
   "cell_type": "code",
   "execution_count": 45,
   "id": "adc5b57e-e9c4-490f-b04d-bee1a577ae96",
   "metadata": {},
   "outputs": [],
   "source": [
    "#symbols = pd.read_csv('comment_folder/sp500.csv')\n",
    "#symbols = sp500.values.tolist()\n",
    "#symbols['Symbol'] = symbols['Symbol'].str[0:4]\n",
    "#symbols = sp500.values.tolist()\n",
    "symbols = [\"MMM\",\"AOS\",\"ABT\",\"ABBV\",\"ABMD\",\"ACN\",\"ATVI\",\"ADM\",\"ADBE\",\"AAP\",\"AMD\",\"AES\",\"AFL\",\"APD\",\"AKAM\",\"ALK\",\"ALB\",\"ARE\",\"ALGN\",\"ALLE\",\"LNT\",\"ALL\",\"GOOGL\",\"GOOG\",\n",
    "           \"MO\",\"AMZN\",\"AMCR\",\"AEE\",\"AAL\",\"AEP\",\"AXP\",\"AIG\",\"AMT\",\"AWK\",\"AMP\",\"ABC\",\"AME\",\"AMGN\",\"APH\",\"ADI\",\"ANSS\",\"ANTM\",\"AON\",\"APA\",\"AAPL\",\"AMAT\",\"APTV\",\"ANET\",\"AJG\",\n",
    "           \"AIZ\",\"ATO\",\"ADSK\",\"ADP\",\"AZO\",\"AVB\",\"AVY\",\"BKR\",\"BLL\",\"BAC\",\"BBWI\",\"BAX\",\"BDX\",\"BRK.B\",\"BBY\",\"BIO\",\"BIIB\",\"BLK\",\"BK\",\"BA\",\"BKNG\",\"BWA\",\"BXP\",\"BSX\",\"BMY\",\n",
    "           \"AVGO\",\"BR\",\"BF.B\",\"CHRW\",\"COG\",\"CDNS\",\"CZR\",\"CPB\",\"COF\",\"CAH\",\"KMX\",\"CCL\",\"CARR\",\"CTLT\",\"CAT\",\"CBOE\",\"CBRE\",\"CDW\",\"CE\",\"CNC\",\"CNP\",\"CERN\",\"CF\",\"CRL\",\"SCHW\",\n",
    "           \"CHTR\",\"CVX\",\"CMG\",\"CB\",\"CHD\",\"CI\",\"CINF\",\"CTAS\",\"CSCO\",\"CFG\",\"CTXS\",\"CLX\",\"CME\",\"CMS\",\"KO\",\"CTSH\",\"CL\",\"CMCSA\",\"CMA\",\"CAG\",\"COP\",\"ED\",\"STZ\",\"CPRT\",\"GLW\",\n",
    "           \"CTVA\",\"COST\",\"CCI\",\"CSX\",\"CMI\",\"CVS\",\"DHI\",\"DHR\",\"DRI\",\"DVA\",\"DE\",\"DAL\",\"XRAY\",\"DVN\",\"DXCM\",\"FANG\",\"DLR\",\"DFS\",\"DISCA\",\"DISCK\",\"DISH\",\"DG\",\"DLTR\",\"DPZ\",\n",
    "           \"DOV\",\"DOW\",\"DTE\",\"DUK\",\"DRE\",\"DD\",\"DXC\",\"EMN\",\"ETN\",\"EBAY\",\"ECL\",\"EIX\",\"EW\",\"LLY\",\"EMR\",\"ENPH\",\"ETR\",\"EOG\",\"EFX\",\"EQIX\",\"EQR\",\"ESS\",\"EL\",\"ETSY\",\"RE\",\"EVRG\",\n",
    "           \"ES\",\"EXC\",\"EXPE\",\"EXPD\",\"EXR\",\"XOM\",\"FFIV\",\"FB\",\"FAST\",\"FRT\",\"FDX\",\"FIS\",\"FITB\",\"FRC\",\"FE\",\"FISV\",\"FLT\",\"FMC\",\"FTNT\",\"FTV\",\"FBHS\",\"FOXA\",\"FOX\",\"BEN\",\"FCX\",\n",
    "           \"GPS\",\"GRMN\",\"IT\",\"GNRC\",\"GD\",\"GE\",\"GIS\",\"GM\",\"GPC\",\"GILD\",\"GPN\",\"GL\",\"GS\",\"HAL\",\"HBI\",\"HAS\",\"HCA\",\"PEAK\",\"HSIC\",\"HES\",\"HPE\",\"HLT\",\"HOLX\",\"HD\",\"HON\",\"HRL\",\"HST\",\n",
    "           \"HWM\",\"HPQ\",\"HUM\",\"HBAN\",\"HII\",\"IBM\",\"IEX\",\"IDXX\",\"INFO\",\"ITW\",\"ILMN\",\"INCY\",\"IR\",\"INTC\",\"ICE\",\"IFF\",\"IP\",\"IPG\",\"INTU\",\"ISRG\",\"IVZ\",\"IPGP\",\"IQV\",\"IRM\",\"JBHT\",\n",
    "           \"JKHY\",\"SJM\",\"JNJ\",\"JCI\",\"JPM\",\"JNPR\",\"KSU\",\"KEY\",\"KEYS\",\"KMB\",\"KIM\",\"KMI\",\"KLAC\",\"KHC\",\"KR\",\"LHX\",\"LH\",\"LRCX\",\"LW\",\"LVS\",\"LEG\",\"LDOS\",\"LEN\",\"LNC\",\"LIN\",\n",
    "           \"LYV\",\"LKQ\",\"LMT\",\"LOW\",\"LUMN\",\"LYB\",\"MTB\",\"MRO\",\"MPC\",\"MKTX\",\"MAR\",\"MMC\",\"MLM\",\"MAS\",\"MA\",\"MXIM\",\"MKC\",\"MCD\",\"MCK\",\"MDT\",\"MRK\",\"MET\",\"MTD\",\"MGM\",\"MCHP\",\n",
    "           \"MU\",\"MSFT\",\"MAA\",\"MRNA\",\"MHK\",\"TAP\",\"MDLZ\",\"MPWR\",\"MNST\",\"MCO\",\"MS\",\"MSI\",\"MSCI\",\"NDAQ\",\"NTAP\",\"NFLX\",\"NWL\",\"NEM\",\"NWSA\",\"NWS\",\"NEE\",\"NLSN\",\"NK\",\"NI\",\"NSC\",\n",
    "           \"NTRS\",\"NOC\",\"NLOK\",\"NCLH\",\"NOV\",\"NRG\",\"NUE\",\"NVDA\",\"NVR\",\"NXPI\",\"ORLY\",\"OXY\",\"ODFL\",\"OMC\",\"OKE\",\"ORCL\",\"OGN\",\"OTIS\",\"PCAR\",\"PKG\",\"PH\",\"PAYX\",\"PAYC\",\"PYPL\",\n",
    "           \"PENN\",\"PNR\",\"PBCT\",\"PEP\",\"PKI\",\"PRGO\",\"PFE\",\"PM\",\"PSX\",\"PNW\",\"PXD\",\"PNC\",\"POOL\",\"PPG\",\"PPL\",\"PFG\",\"PG\",\"PGR\",\"PLD\",\"PRU\",\"PTC\",\"PEG\",\"PSA\",\"PHM\",\"PVH\",\"QRVO\",\n",
    "           \"QCOM\",\"PWR\",\"DGX\",\"RL\",\"RJF\",\"RTX\",\"REG\",\"REGN\",\"RF\",\"RSG\",\"RMD\",\"RHI\",\"ROK\",\"ROL\",\"ROP\",\"ROST\",\"RCL\",\"SPGI\",\"CRM\",\"SBAC\",\"SLB\",\"STX\",\"SEE\",\"SRE\",\"NOW\",\n",
    "           \"SHW\",\"SPG\",\"SWKS\",\"SNA\",\"SO\",\"LUV\",\"SWK\",\"SBUX\",\"STT\",\"STE\",\"SYK\",\"SIVB\",\"SYF\",\"SNPS\",\"SYY\",\"TMUS\",\"TROW\",\"TTWO\",\"TPR\",\"TGT\",\"TEL\",\"TDY\",\"TFX\",\"TER\",\"TSLA\",\n",
    "           \"TXN\",\"TXT\",\"COO\",\"HIG\",\"HSY\",\"MOS\",\"TRV\",\"DIS\",\"TMO\",\"TJX\",\"TSCO\",\"TT\",\"TDG\",\"TRMB\",\"TFC\",\"TWTR\",\"TYL\",\"TSN\",\"USB\",\"UDR\",\"ULTA\",\"UAA\",\"UA\",\"UNP\",\"UAL\",\"UPS\",\n",
    "           \"URI\",\"UNH\",\"UHS\",\"UNM\",\"VLO\",\"VTR\",\"VRSN\",\"VRSK\",\"VZ\",\"VRTX\",\"VFC\",\"VIAC\",\"VTRS\",\"VNO\",\"VMC\",\"WRB\",\"GWW\",\"WAB\",\"WBA\",\"WMT\",\"WM\",\"WAT\",\"WEC\",\"WFC\",\"WELL\",\n",
    "           \"WST\",\"WDC\",\"WU\",\"WRK\",\"WY\",\"WHR\",\"WMB\",\"WLTW\",\"WYNN\",\"XEL\",\"XLNX\",\"XYL\",\"YUM\",\"ZBRA\",\"ZBH\",\"ZION\",\"ZTS\"]"
   ]
  },
  {
   "cell_type": "code",
   "execution_count": 46,
   "id": "282f98d6-5c18-4e3c-8184-0503ea753a3d",
   "metadata": {},
   "outputs": [
    {
     "data": {
      "text/html": [
       "<div>\n",
       "<style scoped>\n",
       "    .dataframe tbody tr th:only-of-type {\n",
       "        vertical-align: middle;\n",
       "    }\n",
       "\n",
       "    .dataframe tbody tr th {\n",
       "        vertical-align: top;\n",
       "    }\n",
       "\n",
       "    .dataframe thead th {\n",
       "        text-align: right;\n",
       "    }\n",
       "</style>\n",
       "<table border=\"1\" class=\"dataframe\">\n",
       "  <thead>\n",
       "    <tr style=\"text-align: right;\">\n",
       "      <th></th>\n",
       "      <th>Unnamed: 0</th>\n",
       "      <th>Author</th>\n",
       "      <th>Comment</th>\n",
       "      <th>Score</th>\n",
       "      <th>timestamp</th>\n",
       "    </tr>\n",
       "  </thead>\n",
       "  <tbody>\n",
       "    <tr>\n",
       "      <th>0</th>\n",
       "      <td>249</td>\n",
       "      <td>KarlMarx693</td>\n",
       "      <td>Is Jpow the most memed financial official ever?</td>\n",
       "      <td>13</td>\n",
       "      <td>6/16/2021 5:06</td>\n",
       "    </tr>\n",
       "    <tr>\n",
       "      <th>1</th>\n",
       "      <td>193</td>\n",
       "      <td>pr3dato8</td>\n",
       "      <td>Is it too late to get into $JPOW?</td>\n",
       "      <td>14</td>\n",
       "      <td>6/16/2021 5:07</td>\n",
       "    </tr>\n",
       "    <tr>\n",
       "      <th>2</th>\n",
       "      <td>404</td>\n",
       "      <td>dragonrider85</td>\n",
       "      <td>Gentlemen, it is with great pleasure to inform...</td>\n",
       "      <td>36</td>\n",
       "      <td>6/16/2021 5:09</td>\n",
       "    </tr>\n",
       "    <tr>\n",
       "      <th>3</th>\n",
       "      <td>403</td>\n",
       "      <td>MLKKO</td>\n",
       "      <td>Whos still holding BB?</td>\n",
       "      <td>152</td>\n",
       "      <td>6/16/2021 5:11</td>\n",
       "    </tr>\n",
       "    <tr>\n",
       "      <th>4</th>\n",
       "      <td>127</td>\n",
       "      <td>None</td>\n",
       "      <td>Last week I went to go outside for a smoke and...</td>\n",
       "      <td>98</td>\n",
       "      <td>6/16/2021 5:15</td>\n",
       "    </tr>\n",
       "  </tbody>\n",
       "</table>\n",
       "</div>"
      ],
      "text/plain": [
       "   Unnamed: 0         Author  \\\n",
       "0         249    KarlMarx693   \n",
       "1         193       pr3dato8   \n",
       "2         404  dragonrider85   \n",
       "3         403          MLKKO   \n",
       "4         127           None   \n",
       "\n",
       "                                             Comment  Score       timestamp  \n",
       "0    Is Jpow the most memed financial official ever?     13  6/16/2021 5:06  \n",
       "1                  Is it too late to get into $JPOW?     14  6/16/2021 5:07  \n",
       "2  Gentlemen, it is with great pleasure to inform...     36  6/16/2021 5:09  \n",
       "3                             Whos still holding BB?    152  6/16/2021 5:11  \n",
       "4  Last week I went to go outside for a smoke and...     98  6/16/2021 5:15  "
      ]
     },
     "execution_count": 46,
     "metadata": {},
     "output_type": "execute_result"
    }
   ],
   "source": [
    "df = pd.read_csv('comment_folder/all_comments.csv')\n",
    "df.head()"
   ]
  },
  {
   "cell_type": "code",
   "execution_count": 47,
   "id": "5c0f90e0-b960-4ed3-ac2d-f0a60f201c23",
   "metadata": {},
   "outputs": [
    {
     "data": {
      "text/html": [
       "<div>\n",
       "<style scoped>\n",
       "    .dataframe tbody tr th:only-of-type {\n",
       "        vertical-align: middle;\n",
       "    }\n",
       "\n",
       "    .dataframe tbody tr th {\n",
       "        vertical-align: top;\n",
       "    }\n",
       "\n",
       "    .dataframe thead th {\n",
       "        text-align: right;\n",
       "    }\n",
       "</style>\n",
       "<table border=\"1\" class=\"dataframe\">\n",
       "  <thead>\n",
       "    <tr style=\"text-align: right;\">\n",
       "      <th></th>\n",
       "      <th>Unnamed: 0</th>\n",
       "      <th>Author</th>\n",
       "      <th>Comment</th>\n",
       "      <th>Score</th>\n",
       "      <th>timestamp</th>\n",
       "      <th>symbols</th>\n",
       "    </tr>\n",
       "  </thead>\n",
       "  <tbody>\n",
       "    <tr>\n",
       "      <th>11</th>\n",
       "      <td>20</td>\n",
       "      <td>UpperSpinach</td>\n",
       "      <td>STOP FUCKING ASKING\\n\\nJPOW SPEAKS AT 07:30 HI...</td>\n",
       "      <td>84</td>\n",
       "      <td>6/16/2021 5:48</td>\n",
       "      <td>PEAK</td>\n",
       "    </tr>\n",
       "    <tr>\n",
       "      <th>16</th>\n",
       "      <td>10</td>\n",
       "      <td>RADIO02118</td>\n",
       "      <td>Remember when TSLA would go up 10% a week, eve...</td>\n",
       "      <td>51</td>\n",
       "      <td>6/16/2021 6:06</td>\n",
       "      <td>TSLA</td>\n",
       "    </tr>\n",
       "    <tr>\n",
       "      <th>18</th>\n",
       "      <td>311</td>\n",
       "      <td>Life_Whereas_3789</td>\n",
       "      <td>Watching CLF and ARVL print.\\n\\n\\nSENS head an...</td>\n",
       "      <td>12</td>\n",
       "      <td>6/16/2021 6:11</td>\n",
       "      <td>CL</td>\n",
       "    </tr>\n",
       "    <tr>\n",
       "      <th>23</th>\n",
       "      <td>246</td>\n",
       "      <td>ktrash</td>\n",
       "      <td>Yellen going to steal the mic at FOMC today an...</td>\n",
       "      <td>43</td>\n",
       "      <td>6/16/2021 6:30</td>\n",
       "      <td>OMC</td>\n",
       "    </tr>\n",
       "    <tr>\n",
       "      <th>31</th>\n",
       "      <td>315</td>\n",
       "      <td>culturalmeathead</td>\n",
       "      <td>MY $CLF FOMO is so strong after $39 PT by JP M...</td>\n",
       "      <td>12</td>\n",
       "      <td>6/16/2021 7:03</td>\n",
       "      <td>CL</td>\n",
       "    </tr>\n",
       "    <tr>\n",
       "      <th>...</th>\n",
       "      <td>...</td>\n",
       "      <td>...</td>\n",
       "      <td>...</td>\n",
       "      <td>...</td>\n",
       "      <td>...</td>\n",
       "      <td>...</td>\n",
       "    </tr>\n",
       "    <tr>\n",
       "      <th>28404</th>\n",
       "      <td>101</td>\n",
       "      <td>prisonsexx</td>\n",
       "      <td>PFE calls saving my portfolio</td>\n",
       "      <td>13</td>\n",
       "      <td>8/17/2021 14:17</td>\n",
       "      <td>PFE</td>\n",
       "    </tr>\n",
       "    <tr>\n",
       "      <th>28408</th>\n",
       "      <td>224</td>\n",
       "      <td>johndalysbeergut</td>\n",
       "      <td>SPY CEO just said that he's transforming the c...</td>\n",
       "      <td>10</td>\n",
       "      <td>8/17/2021 14:23</td>\n",
       "      <td>CE</td>\n",
       "    </tr>\n",
       "    <tr>\n",
       "      <th>28409</th>\n",
       "      <td>224</td>\n",
       "      <td>johndalysbeergut</td>\n",
       "      <td>SPY CEO just said that he's transforming the c...</td>\n",
       "      <td>10</td>\n",
       "      <td>8/17/2021 14:23</td>\n",
       "      <td>CE</td>\n",
       "    </tr>\n",
       "    <tr>\n",
       "      <th>28421</th>\n",
       "      <td>323</td>\n",
       "      <td>MrCFA</td>\n",
       "      <td>Every time Im green its because Im a fucking g...</td>\n",
       "      <td>9</td>\n",
       "      <td>8/17/2021 14:52</td>\n",
       "      <td>IT</td>\n",
       "    </tr>\n",
       "    <tr>\n",
       "      <th>28423</th>\n",
       "      <td>323</td>\n",
       "      <td>MrCFA</td>\n",
       "      <td>Every time Im green its because Im a fucking g...</td>\n",
       "      <td>7</td>\n",
       "      <td>8/17/2021 14:52</td>\n",
       "      <td>IT</td>\n",
       "    </tr>\n",
       "  </tbody>\n",
       "</table>\n",
       "<p>6445 rows × 6 columns</p>\n",
       "</div>"
      ],
      "text/plain": [
       "       Unnamed: 0             Author  \\\n",
       "11             20       UpperSpinach   \n",
       "16             10         RADIO02118   \n",
       "18            311  Life_Whereas_3789   \n",
       "23            246             ktrash   \n",
       "31            315   culturalmeathead   \n",
       "...           ...                ...   \n",
       "28404         101         prisonsexx   \n",
       "28408         224   johndalysbeergut   \n",
       "28409         224   johndalysbeergut   \n",
       "28421         323              MrCFA   \n",
       "28423         323              MrCFA   \n",
       "\n",
       "                                                 Comment  Score  \\\n",
       "11     STOP FUCKING ASKING\\n\\nJPOW SPEAKS AT 07:30 HI...     84   \n",
       "16     Remember when TSLA would go up 10% a week, eve...     51   \n",
       "18     Watching CLF and ARVL print.\\n\\n\\nSENS head an...     12   \n",
       "23     Yellen going to steal the mic at FOMC today an...     43   \n",
       "31     MY $CLF FOMO is so strong after $39 PT by JP M...     12   \n",
       "...                                                  ...    ...   \n",
       "28404                      PFE calls saving my portfolio     13   \n",
       "28408  SPY CEO just said that he's transforming the c...     10   \n",
       "28409  SPY CEO just said that he's transforming the c...     10   \n",
       "28421  Every time Im green its because Im a fucking g...      9   \n",
       "28423  Every time Im green its because Im a fucking g...      7   \n",
       "\n",
       "             timestamp symbols  \n",
       "11      6/16/2021 5:48    PEAK  \n",
       "16      6/16/2021 6:06    TSLA  \n",
       "18      6/16/2021 6:11      CL  \n",
       "23      6/16/2021 6:30     OMC  \n",
       "31      6/16/2021 7:03      CL  \n",
       "...                ...     ...  \n",
       "28404  8/17/2021 14:17     PFE  \n",
       "28408  8/17/2021 14:23      CE  \n",
       "28409  8/17/2021 14:23      CE  \n",
       "28421  8/17/2021 14:52      IT  \n",
       "28423  8/17/2021 14:52      IT  \n",
       "\n",
       "[6445 rows x 6 columns]"
      ]
     },
     "execution_count": 47,
     "metadata": {},
     "output_type": "execute_result"
    }
   ],
   "source": [
    "search_list = symbols\n",
    "\n",
    "df['symbols'] = df.Comment.str.extract('({0})'.format('|'.join(search_list)))\n",
    "result = df[~pd.isna(df.symbols)]\n",
    "\n",
    "result"
   ]
  },
  {
   "cell_type": "code",
   "execution_count": 48,
   "id": "80dd5b7e-dafd-4393-a5cc-c4c351311ed4",
   "metadata": {},
   "outputs": [
    {
     "data": {
      "image/png": "[encoded data removed]",
      "text/plain": [
       "<Figure size 432x288 with 1 Axes>"
      ]
     },
     "metadata": {
      "needs_background": "light"
     },
     "output_type": "display_data"
    }
   ],
   "source": [
    "# Create stopword list:\n",
    "stopwords = set(stopwords.words('english'))\n",
    "textt = \" \".join(comment for comment in result.Comment)\n",
    "wordcloud = WordCloud(stopwords=stopwords).generate(textt)\n",
    "plt.imshow(wordcloud, interpolation='bilinear')\n",
    "plt.axis(\"off\")\n",
    "plt.savefig('wordcloud11.png')\n",
    "plt.show()\n"
   ]
  },
  {
   "cell_type": "code",
   "execution_count": 49,
   "id": "2ca01415-f44a-4fdc-a9d5-838f527f93a1",
   "metadata": {},
   "outputs": [
    {
     "name": "stderr",
     "output_type": "stream",
     "text": [
      "<ipython-input-49-f15584d9753f>:5: SettingWithCopyWarning:\n",
      "\n",
      "\n",
      "A value is trying to be set on a copy of a slice from a DataFrame.\n",
      "Try using .loc[row_indexer,col_indexer] = value instead\n",
      "\n",
      "See the caveats in the documentation: https://pandas.pydata.org/pandas-docs/stable/user_guide/indexing.html#returning-a-view-versus-a-copy\n",
      "\n"
     ]
    }
   ],
   "source": [
    "# assign reviews with score > 3 as positive sentiment\n",
    "# score < 3 negative sentiment\n",
    "# remove score = 3\n",
    "result = result[result['Score'] != 10]\n",
    "result['sentiment'] = result['Score'].apply(lambda rating : +1 if rating > 10 else -1)\n",
    "\n"
   ]
  },
  {
   "cell_type": "code",
   "execution_count": 50,
   "id": "16ac43f4-bf02-477c-a1bf-86346dacf0d1",
   "metadata": {},
   "outputs": [
    {
     "data": {
      "text/html": [
       "<div>\n",
       "<style scoped>\n",
       "    .dataframe tbody tr th:only-of-type {\n",
       "        vertical-align: middle;\n",
       "    }\n",
       "\n",
       "    .dataframe tbody tr th {\n",
       "        vertical-align: top;\n",
       "    }\n",
       "\n",
       "    .dataframe thead th {\n",
       "        text-align: right;\n",
       "    }\n",
       "</style>\n",
       "<table border=\"1\" class=\"dataframe\">\n",
       "  <thead>\n",
       "    <tr style=\"text-align: right;\">\n",
       "      <th></th>\n",
       "      <th>Comment</th>\n",
       "      <th>sentiment</th>\n",
       "    </tr>\n",
       "  </thead>\n",
       "  <tbody>\n",
       "    <tr>\n",
       "      <th>11</th>\n",
       "      <td>STOP FUCKING ASKING\\n\\nJPOW SPEAKS AT 07:30 HI...</td>\n",
       "      <td>1</td>\n",
       "    </tr>\n",
       "    <tr>\n",
       "      <th>16</th>\n",
       "      <td>Remember when TSLA would go up 10% a week, eve...</td>\n",
       "      <td>1</td>\n",
       "    </tr>\n",
       "    <tr>\n",
       "      <th>18</th>\n",
       "      <td>Watching CLF and ARVL print.\\n\\n\\nSENS head an...</td>\n",
       "      <td>1</td>\n",
       "    </tr>\n",
       "    <tr>\n",
       "      <th>23</th>\n",
       "      <td>Yellen going to steal the mic at FOMC today an...</td>\n",
       "      <td>1</td>\n",
       "    </tr>\n",
       "    <tr>\n",
       "      <th>31</th>\n",
       "      <td>MY $CLF FOMO is so strong after $39 PT by JP M...</td>\n",
       "      <td>1</td>\n",
       "    </tr>\n",
       "  </tbody>\n",
       "</table>\n",
       "</div>"
      ],
      "text/plain": [
       "                                              Comment  sentiment\n",
       "11  STOP FUCKING ASKING\\n\\nJPOW SPEAKS AT 07:30 HI...          1\n",
       "16  Remember when TSLA would go up 10% a week, eve...          1\n",
       "18  Watching CLF and ARVL print.\\n\\n\\nSENS head an...          1\n",
       "23  Yellen going to steal the mic at FOMC today an...          1\n",
       "31  MY $CLF FOMO is so strong after $39 PT by JP M...          1"
      ]
     },
     "execution_count": 50,
     "metadata": {},
     "output_type": "execute_result"
    }
   ],
   "source": [
    "dfNew = result[['Comment','sentiment']]\n",
    "dfNew.head()\n"
   ]
  },
  {
   "cell_type": "code",
   "execution_count": 51,
   "id": "365e50c7-2668-45a6-9e26-aa6032241112",
   "metadata": {},
   "outputs": [
    {
     "name": "stderr",
     "output_type": "stream",
     "text": [
      "<ipython-input-51-4955e1c5388e>:3: SettingWithCopyWarning:\n",
      "\n",
      "\n",
      "A value is trying to be set on a copy of a slice from a DataFrame.\n",
      "Try using .loc[row_indexer,col_indexer] = value instead\n",
      "\n",
      "See the caveats in the documentation: https://pandas.pydata.org/pandas-docs/stable/user_guide/indexing.html#returning-a-view-versus-a-copy\n",
      "\n"
     ]
    }
   ],
   "source": [
    "# random split train and test data\n",
    "index = result.index\n",
    "dfNew['random_number'] = np.random.randn(len(index))\n",
    "train = dfNew[dfNew['random_number'] <= 0.8]\n",
    "test = dfNew[dfNew['random_number'] > 0.8]"
   ]
  },
  {
   "cell_type": "code",
   "execution_count": 52,
   "id": "6f189e4f-34f3-42e3-8736-9b762bff7aff",
   "metadata": {},
   "outputs": [],
   "source": [
    "from sklearn.feature_extraction.text import CountVectorizer\n",
    "vectorizer = CountVectorizer(token_pattern=r'\\b\\w+\\b')\n",
    "train_matrix = vectorizer.fit_transform(train['Comment'])\n",
    "test_matrix = vectorizer.transform(test['Comment'])"
   ]
  },
  {
   "cell_type": "code",
   "execution_count": 53,
   "id": "c2733cd1-382a-459c-a14a-857100f210e4",
   "metadata": {},
   "outputs": [],
   "source": [
    "# Logistic Regression\n",
    "from sklearn.linear_model import LogisticRegression\n",
    "lr = LogisticRegression()"
   ]
  },
  {
   "cell_type": "code",
   "execution_count": 54,
   "id": "52366e53-58ba-430b-b8e3-b18c66981592",
   "metadata": {},
   "outputs": [],
   "source": [
    "X_train = train_matrix\n",
    "X_test = test_matrix\n",
    "y_train = train['sentiment']\n",
    "y_test = test['sentiment']"
   ]
  },
  {
   "cell_type": "code",
   "execution_count": 55,
   "id": "00d05a67-a2ac-4cd3-8ef7-1a6d74aa63c9",
   "metadata": {},
   "outputs": [
    {
     "data": {
      "text/plain": [
       "LogisticRegression()"
      ]
     },
     "execution_count": 55,
     "metadata": {},
     "output_type": "execute_result"
    }
   ],
   "source": [
    "lr.fit(X_train,y_train)\n"
   ]
  },
  {
   "cell_type": "code",
   "execution_count": 56,
   "id": "5eb20a08-1648-4ac6-a256-395bb10175c3",
   "metadata": {},
   "outputs": [],
   "source": [
    "predictions = lr.predict(X_test)"
   ]
  },
  {
   "cell_type": "code",
   "execution_count": 57,
   "id": "0134dfe5-29ef-429c-9a03-87df46e2998b",
   "metadata": {},
   "outputs": [
    {
     "data": {
      "text/plain": [
       "array([[275, 144],\n",
       "       [196, 626]], dtype=int64)"
      ]
     },
     "execution_count": 57,
     "metadata": {},
     "output_type": "execute_result"
    }
   ],
   "source": [
    "# find accuracy, precision, recall:\n",
    "from sklearn.metrics import confusion_matrix,classification_report\n",
    "new = np.asarray(y_test)\n",
    "confusion_matrix(predictions,y_test)\n"
   ]
  },
  {
   "cell_type": "code",
   "execution_count": 58,
   "id": "d9bcdf50-5fcb-484a-b213-128c930efaa0",
   "metadata": {},
   "outputs": [
    {
     "name": "stdout",
     "output_type": "stream",
     "text": [
      "              precision    recall  f1-score   support\n",
      "\n",
      "          -1       0.58      0.66      0.62       419\n",
      "           1       0.81      0.76      0.79       822\n",
      "\n",
      "    accuracy                           0.73      1241\n",
      "   macro avg       0.70      0.71      0.70      1241\n",
      "weighted avg       0.74      0.73      0.73      1241\n",
      "\n"
     ]
    }
   ],
   "source": [
    "print(classification_report(predictions,y_test))"
   ]
  }
 ],
 "metadata": {
  "kernelspec": {
   "display_name": "Python 3",
   "language": "python",
   "name": "python3"
  },
  "language_info": {
   "codemirror_mode": {
    "name": "ipython",
    "version": 3
   },
   "file_extension": ".py",
   "mimetype": "text/x-python",
   "name": "python",
   "nbconvert_exporter": "python",
   "pygments_lexer": "ipython3",
   "version": "3.8.5"
  }
 },
 "nbformat": 4,
 "nbformat_minor": 5
}
